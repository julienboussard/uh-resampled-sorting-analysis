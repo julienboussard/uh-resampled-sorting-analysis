{
 "cells": [
  {
   "cell_type": "code",
   "execution_count": 1,
   "id": "1b7a9b5f-63e4-4ab2-b4b0-8d885e2b8878",
   "metadata": {},
   "outputs": [],
   "source": [
    "%load_ext autoreload\n",
    "%autoreload 2"
   ]
  },
  {
   "cell_type": "markdown",
   "id": "63fc90a8-4dfd-48df-8ba3-44f41f0d9fed",
   "metadata": {},
   "source": [
    "## This notebook contains functions and code to extract get all spikes / units amplitudes and location spread + run statistical test from the output of resampled_analysis.ipynb\n"
   ]
  },
  {
   "cell_type": "code",
   "execution_count": 2,
   "id": "7c0cae8b-1de3-4520-83a7-be4b874f932c",
   "metadata": {},
   "outputs": [
    {
     "name": "stderr",
     "output_type": "stream",
     "text": [
      "/mnt/ssd2tb1/cat/julien/anaconda3/envs/dartsort/lib/python3.11/site-packages/tqdm/auto.py:21: TqdmWarning: IProgress not found. Please update jupyter and ipywidgets. See https://ipywidgets.readthedocs.io/en/stable/user_install.html\n",
      "  from .autonotebook import tqdm as notebook_tqdm\n",
      "/tmp/ipykernel_1682742/2294111486.py:35: MatplotlibDeprecationWarning: The get_cmap function was deprecated in Matplotlib 3.7 and will be removed in 3.11. Use ``matplotlib.colormaps[name]`` or ``matplotlib.colormaps.get_cmap()`` or ``pyplot.get_cmap()`` instead.\n",
      "  jet = cm.get_cmap(\"jet\")\n"
     ]
    }
   ],
   "source": [
    "import numpy as np\n",
    "from pathlib import Path\n",
    "import os\n",
    "import h5py\n",
    "from tqdm.auto import tqdm\n",
    "import torch\n",
    "\n",
    "from dartsort.util.waveform_util import make_channel_index\n",
    "from dartsort.util.spikeio import read_waveforms_channel_index\n",
    "\n",
    "from dartsort.templates import TemplateData\n",
    "\n",
    "from dartsort.util.drift_util import registered_geometry, get_spike_pitch_shifts, get_waveforms_on_static_channels\n",
    "from dartsort.util.data_util import chunk_time_ranges, subchunks_time_ranges\n",
    "from spike_psvae.cluster_viz import array_scatter\n",
    "\n",
    "from uhd_resampled_sorting_analysis.src.resampled_locs_amps import relocalize_after_clustering\n",
    "\n",
    "import spikeinterface.core as sc\n",
    "\n",
    "import scipy.stats as stats\n",
    "\n",
    "import matplotlib.pyplot as plt\n",
    "import matplotlib.cm as cm\n",
    "import colorcet as cc \n",
    "\n",
    "import pickle\n",
    "\n",
    "ccolors = cc.glasbey[:31]\n",
    "def get_ccolor(k):\n",
    "    if k == -1:\n",
    "        return \"#808080\"\n",
    "    else:\n",
    "        return ccolors[k % len(ccolors)]\n",
    "jet = cm.get_cmap(\"jet\")\n",
    "\n",
    "from spike_psvae.cluster_viz import array_scatter\n",
    "\n",
    "import cv2 \n",
    "import pandas as pd"
   ]
  },
  {
   "cell_type": "code",
   "execution_count": 3,
   "id": "374c2d9f-f8c4-4e7b-91a9-942241931b15",
   "metadata": {},
   "outputs": [],
   "source": [
    "sampling_rate = 30_000\n",
    "dtype_preprocessed = \"float32\"\n",
    "loc_radius = 100\n",
    "uv_bit_gain_factor = 2.34\n",
    "\n",
    "dir = Path(\"UHD_DATA\")"
   ]
  },
  {
   "cell_type": "code",
   "execution_count": 4,
   "id": "ab4cd354-9848-46e0-9e40-946d8cb50479",
   "metadata": {},
   "outputs": [],
   "source": [
    "data_names = [\n",
    "    # Session names\n",
    "   \"ZYE_0021___2021-05-01___1\",\n",
    "   \"ZYE_0031___2021-12-03___1___p0_g0_imec0\",\n",
    "   \"ZYE_0040___2021-08-15___3___p1_g0_imec0\", \n",
    "    \"ZYE_0021___2021-05-01___4___p2_g0_imec0\",\n",
    "    \"ZYE_0057___2022-02-07\",\n",
    "    \"ZYE_0057___2022-02-04___1___p0_g0___p0_g0_imec0\",\n",
    "    \"ZYE_0031___2021-12-01___1___p0_g0_imec0\",\n",
    "    \"ZYE_0057___2022-02-07\",\n",
    "    \"ZYE_0021___2021-05-01___4___p2_g0_imec0\",\n",
    "    \"ZYE_0057___2022-02-04___1___p0_g0___p0_g0_imec0\",\n",
    "    \"ZYE_0031___2021-12-02___4___p2_g0_imec0\",\n",
    "    \"ZYE_0057___2022-02-03___2___p1_g0___p1_g0_imec0\",\n",
    "    \"LK_0011___2021-12-06___1___p0_g0_imec0\"\n",
    "]\n",
    "\n",
    "slices_all = [\n",
    "    # Here, cut parts of recording with low-quality data\n",
    "    [280, None],\n",
    "    [350, None],\n",
    "    [None, None],\n",
    "    [200, None],\n",
    "    [None, None],\n",
    "    [None, 3750],\n",
    "    [None, None],\n",
    "    [None, None],\n",
    "    [200, None],\n",
    "    [None, 3750],\n",
    "    [None, 3700],\n",
    "    [None, 3400],\n",
    "    [None, None],\n",
    "]\n"
   ]
  },
  {
   "cell_type": "code",
   "execution_count": 86,
   "id": "a35fe3ed-c48e-450d-879e-9151ab601056",
   "metadata": {},
   "outputs": [
    {
     "name": "stderr",
     "output_type": "stream",
     "text": [
      "0it [00:00, ?it/s]"
     ]
    },
    {
     "name": "stdout",
     "output_type": "stream",
     "text": [
      "output of ZYE_0021___2021-05-01___1\n",
      "output of ZYE_0031___2021-12-03___1___p0_g0_imec0\n"
     ]
    },
    {
     "name": "stderr",
     "output_type": "stream",
     "text": [
      "3it [00:00,  6.03it/s]"
     ]
    },
    {
     "name": "stdout",
     "output_type": "stream",
     "text": [
      "output of ZYE_0040___2021-08-15___3___p1_g0_imec0\n",
      "output of ZYE_0021___2021-05-01___4___p2_g0_imec0\n"
     ]
    },
    {
     "name": "stderr",
     "output_type": "stream",
     "text": [
      "7it [00:00, 12.17it/s]"
     ]
    },
    {
     "name": "stdout",
     "output_type": "stream",
     "text": [
      "output of ZYE_0057___2022-02-07\n",
      "output of ZYE_0057___2022-02-04___1___p0_g0___p0_g0_imec0\n",
      "output of ZYE_0031___2021-12-01___1___p0_g0_imec0\n",
      "output of ZYE_0057___2022-02-07\n",
      "output of ZYE_0021___2021-05-01___4___p2_g0_imec0\n",
      "output of ZYE_0057___2022-02-04___1___p0_g0___p0_g0_imec0\n",
      "output of ZYE_0031___2021-12-02___4___p2_g0_imec0\n"
     ]
    },
    {
     "name": "stderr",
     "output_type": "stream",
     "text": [
      "11it [00:00, 17.97it/s]"
     ]
    },
    {
     "name": "stdout",
     "output_type": "stream",
     "text": [
      "output of ZYE_0057___2022-02-03___2___p1_g0___p1_g0_imec0\n",
      "output of LK_0011___2021-12-06___1___p0_g0_imec0\n"
     ]
    },
    {
     "name": "stderr",
     "output_type": "stream",
     "text": [
      "13it [00:01, 11.64it/s]\n"
     ]
    }
   ],
   "source": [
    "amplitudes_all = []\n",
    "datasets_all = []\n",
    "patterns_all = []\n",
    "labels_all = []\n",
    "\n",
    "pats = [1, 2, 3, 4] # encodes the 4 patterns UHD, NP1, NP2, LD\n",
    "\n",
    "for name_recording, slice in tqdm(zip(data_names, slices_all)):\n",
    "\n",
    "    print(f\"output of {name_recording}\")\n",
    "\n",
    "    # Get clustering labels from UHD\n",
    "    labels = np.load(pat_1_dir / f\"{name_recording}_pat1/initial_clustering/clustering_labels.npy\")\n",
    "\n",
    "    for pat_reloc in pats:\n",
    "\n",
    "        name_recording_pat = f\"{name_recording}_pat{pat_reloc}\"\n",
    "\n",
    "        dir_pat = dir / name_recording_pat\n",
    "        amplitudes = np.load(dir_pat / \"reloc_amplitudes.npy\")\n",
    "        n_spikes = len(amplitudes)\n",
    "\n",
    "        amplitudes_all.append(amplitudes)\n",
    "        datasets_all.append(np.full_like(amplitudes, name_recording_pat, dtype=\"str\"))\n",
    "        patterns_all.append(np.full_like(amplitudes, pat_reloc))\n",
    "\n",
    "        labels_all.append(labels)\n",
    "        \n",
    "patterns_all = np.concatenate(patterns_all)\n",
    "labels_all = np.concatenate(labels_all)\n",
    "datasets_all = np.concatenate(datasets_all)\n",
    "amplitudes_all = np.concatenate(amplitudes_all)\n",
    "\n"
   ]
  },
  {
   "cell_type": "code",
   "execution_count": 96,
   "id": "b1873cff-b9fe-4d3a-b700-18fe8f56d3ce",
   "metadata": {},
   "outputs": [
    {
     "name": "stderr",
     "output_type": "stream",
     "text": [
      "0it [00:00, ?it/s]"
     ]
    },
    {
     "name": "stdout",
     "output_type": "stream",
     "text": [
      "output of ZYE_0021___2021-05-01___1\n"
     ]
    },
    {
     "name": "stderr",
     "output_type": "stream",
     "text": [
      "1it [00:00,  1.44it/s]"
     ]
    },
    {
     "name": "stdout",
     "output_type": "stream",
     "text": [
      "output of ZYE_0031___2021-12-03___1___p0_g0_imec0\n"
     ]
    },
    {
     "name": "stderr",
     "output_type": "stream",
     "text": [
      "2it [00:03,  1.65s/it]"
     ]
    },
    {
     "name": "stdout",
     "output_type": "stream",
     "text": [
      "output of ZYE_0040___2021-08-15___3___p1_g0_imec0\n"
     ]
    },
    {
     "name": "stderr",
     "output_type": "stream",
     "text": [
      "4it [00:06,  1.53s/it]"
     ]
    },
    {
     "name": "stdout",
     "output_type": "stream",
     "text": [
      "output of ZYE_0021___2021-05-01___4___p2_g0_imec0\n",
      "output of ZYE_0057___2022-02-07\n"
     ]
    },
    {
     "name": "stderr",
     "output_type": "stream",
     "text": [
      "5it [00:06,  1.08s/it]"
     ]
    },
    {
     "name": "stdout",
     "output_type": "stream",
     "text": [
      "output of ZYE_0057___2022-02-04___1___p0_g0___p0_g0_imec0\n"
     ]
    },
    {
     "name": "stderr",
     "output_type": "stream",
     "text": [
      "6it [00:08,  1.21s/it]"
     ]
    },
    {
     "name": "stdout",
     "output_type": "stream",
     "text": [
      "output of ZYE_0031___2021-12-01___1___p0_g0_imec0\n"
     ]
    },
    {
     "name": "stderr",
     "output_type": "stream",
     "text": [
      "7it [00:10,  1.69s/it]"
     ]
    },
    {
     "name": "stdout",
     "output_type": "stream",
     "text": [
      "output of ZYE_0057___2022-02-07\n"
     ]
    },
    {
     "name": "stderr",
     "output_type": "stream",
     "text": [
      "8it [00:11,  1.32s/it]"
     ]
    },
    {
     "name": "stdout",
     "output_type": "stream",
     "text": [
      "output of ZYE_0021___2021-05-01___4___p2_g0_imec0\n"
     ]
    },
    {
     "name": "stderr",
     "output_type": "stream",
     "text": [
      "9it [00:11,  1.00it/s]"
     ]
    },
    {
     "name": "stdout",
     "output_type": "stream",
     "text": [
      "output of ZYE_0057___2022-02-04___1___p0_g0___p0_g0_imec0\n"
     ]
    },
    {
     "name": "stderr",
     "output_type": "stream",
     "text": [
      "10it [00:13,  1.09s/it]"
     ]
    },
    {
     "name": "stdout",
     "output_type": "stream",
     "text": [
      "output of ZYE_0031___2021-12-02___4___p2_g0_imec0\n"
     ]
    },
    {
     "name": "stderr",
     "output_type": "stream",
     "text": [
      "11it [00:14,  1.20s/it]"
     ]
    },
    {
     "name": "stdout",
     "output_type": "stream",
     "text": [
      "output of ZYE_0057___2022-02-03___2___p1_g0___p1_g0_imec0\n"
     ]
    },
    {
     "name": "stderr",
     "output_type": "stream",
     "text": [
      "12it [00:17,  1.65s/it]"
     ]
    },
    {
     "name": "stdout",
     "output_type": "stream",
     "text": [
      "output of LK_0011___2021-12-06___1___p0_g0_imec0\n"
     ]
    },
    {
     "name": "stderr",
     "output_type": "stream",
     "text": [
      "13it [00:19,  1.50s/it]\n"
     ]
    }
   ],
   "source": [
    "# Create csv with unit amplitudes\n",
    "\n",
    "unit_amplitudes_pat_1 = []\n",
    "unit_amplitudes_pat_2 = []\n",
    "unit_amplitudes_pat_3 = []\n",
    "unit_amplitudes_pat_4 = []\n",
    "patterns_units = []\n",
    "\n",
    "for name_recording, slice in tqdm(zip(data_names, slices_all)):\n",
    "\n",
    "    print(f\"output of {name_recording}\")\n",
    "\n",
    "    labels = np.load(dir / f\"{name_recording}_pat1/initial_clustering/clustering_labels.npy\")\n",
    "    units = np.unique(labels)\n",
    "    units = units[units>-1]\n",
    "\n",
    "    for pat_reloc in pats:\n",
    "\n",
    "        name_recording_pat = f\"{name_recording}_pat{pat_reloc}\"\n",
    "\n",
    "        dir_pat = dir / name_recording_pat\n",
    "        amplitudes = np.load(dir_pat / \"reloc_amplitudes.npy\")\n",
    "        n_spikes = len(amplitudes)\n",
    "\n",
    "        for unit in units:\n",
    "            if pat_reloc == 1:\n",
    "                unit_amplitudes_pat_1.append(np.median(amplitudes[labels == unit]))\n",
    "            if pat_reloc == 2:\n",
    "                unit_amplitudes_pat_2.append(np.median(amplitudes[labels == unit]))\n",
    "            if pat_reloc == 3:\n",
    "                unit_amplitudes_pat_3.append(np.median(amplitudes[labels == unit]))\n",
    "            if pat_reloc == 4:\n",
    "                unit_amplitudes_pat_4.append(np.median(amplitudes[labels == unit]))\n"
   ]
  },
  {
   "cell_type": "code",
   "execution_count": 100,
   "id": "da0ddd48-59cd-4120-83d0-e55b74ee3756",
   "metadata": {},
   "outputs": [
    {
     "name": "stdout",
     "output_type": "stream",
     "text": [
      "      unit amp full  unit amp LD  unit amp NP2  unit amp NP1\n",
      "0        136.403459   121.527262    108.433437    119.501151\n",
      "1        253.632693   226.005060    196.362862    225.472603\n",
      "2        263.106902   247.923984    217.062873    247.256664\n",
      "3        126.363065   117.978413    112.848802    114.760615\n",
      "4        139.673361   123.928229    107.884590    123.699827\n",
      "...             ...          ...           ...           ...\n",
      "1469      71.830892    48.317211     44.249676     43.840794\n",
      "1470      67.871651    49.532197     45.066917     42.709682\n",
      "1471      67.157763    50.682635     44.216172     42.850600\n",
      "1472      66.030087    50.354469     42.518855     40.235981\n",
      "1473      66.574574    50.302727     42.300956     39.169647\n",
      "\n",
      "[1474 rows x 4 columns]\n"
     ]
    }
   ],
   "source": [
    "import pandas as pd\n",
    "\n",
    "# get the list of tuples from two lists.\n",
    "# and merge them by using zip().\n",
    "list_of_tuples = list(zip(unit_amplitudes_pat_1, unit_amplitudes_pat_4, unit_amplitudes_pat_3, unit_amplitudes_pat_2))\n",
    "\n",
    "# # Assign data to tuples.\n",
    "# list_of_tuples\n",
    "\n",
    "\n",
    "# Converting lists of tuples into\n",
    "# pandas Dataframe.\n",
    "df = pd.DataFrame(list_of_tuples,\n",
    "                  columns=['unit amp full', 'unit amp LD', 'unit amp NP2', 'unit amp NP1'])\n",
    "\n",
    "print(df)"
   ]
  },
  {
   "cell_type": "code",
   "execution_count": 106,
   "id": "c9114398-cfdf-44e7-ab99-a6feece6b7ea",
   "metadata": {
    "scrolled": true
   },
   "outputs": [],
   "source": [
    "df.to_csv('figure_data_RERUN_panels_GtoK/panel_E/unit_amplitude.csv', index=False)  "
   ]
  },
  {
   "cell_type": "code",
   "execution_count": 11,
   "id": "dff42569-78e4-4b75-b356-2cb4cb1cafa7",
   "metadata": {},
   "outputs": [
    {
     "data": {
      "image/png": "[encoded data removed]",
      "text/plain": [
       "<Figure size 640x480 with 1 Axes>"
      ]
     },
     "metadata": {},
     "output_type": "display_data"
    }
   ],
   "source": [
    "units_amplitudes = pd.read_csv('figure_data_RERUN_panels_GtoK/panel_E/unit_amplitude.csv').to_numpy()\n",
    "\n",
    "for unit in range(len(units_amplitudes)): \n",
    "    plt.plot([0, 1, 2, 3], units_amplitudes[unit], c='grey', linewidth=1, marker = 'x', markersize=1)\n",
    "plt.show()\n",
    "plt.close()\n"
   ]
  },
  {
   "cell_type": "code",
   "execution_count": 109,
   "id": "ec311a84-01b6-46b9-88df-af70c2cc5f51",
   "metadata": {},
   "outputs": [
    {
     "data": {
      "text/plain": [
       "(1474, 4)"
      ]
     },
     "execution_count": 109,
     "metadata": {},
     "output_type": "execute_result"
    }
   ],
   "source": [
    "units_amplitudes.shape"
   ]
  },
  {
   "cell_type": "code",
   "execution_count": 119,
   "id": "06e14641-6fe5-45d5-b110-46d89b25119f",
   "metadata": {},
   "outputs": [
    {
     "data": {
      "text/plain": [
       "0.23184135893870594"
      ]
     },
     "execution_count": 119,
     "metadata": {},
     "output_type": "execute_result"
    }
   ],
   "source": [
    "stats.ttest_ind(units_amplitudes[:, 0], units_amplitudes[:, 1])\n",
    "\n",
    "(np.median(units_amplitudes[:, 0]) - np.median(units_amplitudes[:, 1])) / np.median(units_amplitudes[:, 0])"
   ]
  },
  {
   "cell_type": "code",
   "execution_count": 120,
   "id": "4e278c56-e25c-465f-866f-1d1a384c9de0",
   "metadata": {},
   "outputs": [
    {
     "data": {
      "text/plain": [
       "0.32647380147871496"
      ]
     },
     "execution_count": 120,
     "metadata": {},
     "output_type": "execute_result"
    }
   ],
   "source": [
    "stats.ttest_ind(units_amplitudes[:, 0], units_amplitudes[:, 2])\n",
    "\n",
    "(np.median(units_amplitudes[:, 0]) - np.median(units_amplitudes[:, 2])) / np.median(units_amplitudes[:, 0])"
   ]
  },
  {
   "cell_type": "code",
   "execution_count": 121,
   "id": "aa59c8c0-1e66-4065-96a3-0cdadfcea816",
   "metadata": {},
   "outputs": [
    {
     "data": {
      "text/plain": [
       "0.35385200239753745"
      ]
     },
     "execution_count": 121,
     "metadata": {},
     "output_type": "execute_result"
    }
   ],
   "source": [
    "stats.ttest_ind(units_amplitudes[:, 0], units_amplitudes[:, 3])\n",
    "\n",
    "(np.median(units_amplitudes[:, 0]) - np.median(units_amplitudes[:, 3])) / np.median(units_amplitudes[:, 0])"
   ]
  },
  {
   "cell_type": "code",
   "execution_count": 113,
   "id": "e442de7e-4431-488b-b74b-22afd6428c67",
   "metadata": {},
   "outputs": [
    {
     "data": {
      "text/plain": [
       "(1474,)"
      ]
     },
     "execution_count": 113,
     "metadata": {},
     "output_type": "execute_result"
    }
   ],
   "source": [
    "units_amplitudes[:, 0].shap"
   ]
  },
  {
   "cell_type": "code",
   "execution_count": null,
   "id": "3905c988-33bc-4daf-b5dd-797045a73396",
   "metadata": {},
   "outputs": [],
   "source": []
  },
  {
   "cell_type": "code",
   "execution_count": 124,
   "id": "ea4d1b3a-dbe7-45bf-bf9e-928ba6e8b762",
   "metadata": {},
   "outputs": [
    {
     "data": {
      "text/plain": [
       "['ZYE_0021___2021-05-01___1',\n",
       " 'ZYE_0031___2021-12-03___1___p0_g0_imec0',\n",
       " 'ZYE_0040___2021-08-15___3___p1_g0_imec0',\n",
       " 'ZYE_0021___2021-05-01___4___p2_g0_imec0',\n",
       " 'ZYE_0057___2022-02-07',\n",
       " 'ZYE_0057___2022-02-04___1___p0_g0___p0_g0_imec0',\n",
       " 'ZYE_0031___2021-12-01___1___p0_g0_imec0',\n",
       " 'ZYE_0057___2022-02-07',\n",
       " 'ZYE_0021___2021-05-01___4___p2_g0_imec0',\n",
       " 'ZYE_0057___2022-02-04___1___p0_g0___p0_g0_imec0',\n",
       " 'ZYE_0031___2021-12-02___4___p2_g0_imec0',\n",
       " 'ZYE_0057___2022-02-03___2___p1_g0___p1_g0_imec0',\n",
       " 'LK_0011___2021-12-06___1___p0_g0_imec0']"
      ]
     },
     "execution_count": 124,
     "metadata": {},
     "output_type": "execute_result"
    }
   ],
   "source": [
    "# Get per-unit spread\n",
    "data_names"
   ]
  },
  {
   "cell_type": "code",
   "execution_count": 129,
   "id": "189f1151-89f9-4793-9fc2-0048f1061aa2",
   "metadata": {},
   "outputs": [
    {
     "name": "stderr",
     "output_type": "stream",
     "text": [
      "0it [00:00, ?it/s]"
     ]
    },
    {
     "name": "stdout",
     "output_type": "stream",
     "text": [
      "output of ZYE_0021___2021-05-01___1\n"
     ]
    },
    {
     "name": "stderr",
     "output_type": "stream",
     "text": [
      "1it [00:06,  6.71s/it]"
     ]
    },
    {
     "name": "stdout",
     "output_type": "stream",
     "text": [
      "output of ZYE_0031___2021-12-03___1___p0_g0_imec0\n"
     ]
    },
    {
     "name": "stderr",
     "output_type": "stream",
     "text": [
      "2it [00:26, 14.62s/it]"
     ]
    },
    {
     "name": "stdout",
     "output_type": "stream",
     "text": [
      "output of ZYE_0040___2021-08-15___3___p1_g0_imec0\n"
     ]
    },
    {
     "name": "stderr",
     "output_type": "stream",
     "text": [
      "3it [00:56, 21.41s/it]"
     ]
    },
    {
     "name": "stdout",
     "output_type": "stream",
     "text": [
      "output of ZYE_0021___2021-05-01___4___p2_g0_imec0\n"
     ]
    },
    {
     "name": "stderr",
     "output_type": "stream",
     "text": [
      "4it [00:56, 13.06s/it]"
     ]
    },
    {
     "name": "stdout",
     "output_type": "stream",
     "text": [
      "output of ZYE_0057___2022-02-07\n"
     ]
    },
    {
     "name": "stderr",
     "output_type": "stream",
     "text": [
      "5it [01:06, 12.07s/it]"
     ]
    },
    {
     "name": "stdout",
     "output_type": "stream",
     "text": [
      "output of ZYE_0057___2022-02-04___1___p0_g0___p0_g0_imec0\n"
     ]
    },
    {
     "name": "stderr",
     "output_type": "stream",
     "text": [
      "6it [01:11,  9.47s/it]"
     ]
    },
    {
     "name": "stdout",
     "output_type": "stream",
     "text": [
      "output of ZYE_0031___2021-12-01___1___p0_g0_imec0\n"
     ]
    },
    {
     "name": "stderr",
     "output_type": "stream",
     "text": [
      "7it [01:18,  8.69s/it]"
     ]
    },
    {
     "name": "stdout",
     "output_type": "stream",
     "text": [
      "output of ZYE_0057___2022-02-07\n"
     ]
    },
    {
     "name": "stderr",
     "output_type": "stream",
     "text": [
      "8it [01:19,  6.38s/it]"
     ]
    },
    {
     "name": "stdout",
     "output_type": "stream",
     "text": [
      "output of ZYE_0021___2021-05-01___4___p2_g0_imec0\n"
     ]
    },
    {
     "name": "stderr",
     "output_type": "stream",
     "text": [
      "9it [01:20,  4.62s/it]"
     ]
    },
    {
     "name": "stdout",
     "output_type": "stream",
     "text": [
      "output of ZYE_0057___2022-02-04___1___p0_g0___p0_g0_imec0\n"
     ]
    },
    {
     "name": "stderr",
     "output_type": "stream",
     "text": [
      "10it [01:23,  4.12s/it]"
     ]
    },
    {
     "name": "stdout",
     "output_type": "stream",
     "text": [
      "output of ZYE_0031___2021-12-02___4___p2_g0_imec0\n"
     ]
    },
    {
     "name": "stderr",
     "output_type": "stream",
     "text": [
      "11it [01:31,  5.31s/it]"
     ]
    },
    {
     "name": "stdout",
     "output_type": "stream",
     "text": [
      "output of ZYE_0057___2022-02-03___2___p1_g0___p1_g0_imec0\n"
     ]
    },
    {
     "name": "stderr",
     "output_type": "stream",
     "text": [
      "12it [01:49,  9.08s/it]"
     ]
    },
    {
     "name": "stdout",
     "output_type": "stream",
     "text": [
      "output of LK_0011___2021-12-06___1___p0_g0_imec0\n"
     ]
    },
    {
     "name": "stderr",
     "output_type": "stream",
     "text": [
      "13it [02:05,  9.63s/it]\n"
     ]
    }
   ],
   "source": [
    "# Create csv with unit amplitudes\n",
    "\n",
    "unit_x_spread_pat_1 = []\n",
    "unit_x_spread_pat_2 = []\n",
    "unit_x_spread_pat_3 = []\n",
    "unit_x_spread_pat_4 = []\n",
    "unit_z_spread_pat_1 = []\n",
    "unit_z_spread_pat_2 = []\n",
    "unit_z_spread_pat_3 = []\n",
    "unit_z_spread_pat_4 = []\n",
    "\n",
    "for name_recording, slice, pats, dir, pat_1_dir in tqdm(zip(data_names, slices_all, patterns, full_dir_list, pat_1_dir_list)):\n",
    "\n",
    "    print(f\"output of {name_recording}\")\n",
    "\n",
    "    dir = Path(dir)\n",
    "    pat_1_dir = Path(pat_1_dir)\n",
    "\n",
    "    subtraction_dir = pat_1_dir / f\"{name_recording}_pat1/subtraction_results\"\n",
    "    \n",
    "    sub_h5 = subtraction_dir / \"subtraction.h5\"\n",
    "    motion_estimate_name = subtraction_dir / \"motion_estimate.obj\"\n",
    "    filehandler =open(motion_estimate_name, 'rb') \n",
    "    me = pickle.load(filehandler)\n",
    "    with h5py.File(sub_h5, \"r+\") as h5:\n",
    "        times_samples = np.array(h5[\"times_samples\"][:])\n",
    "        times_seconds = np.array(h5[\"times_seconds\"][:])\n",
    "        \n",
    "    labels = np.load(pat_1_dir / f\"{name_recording}_pat1/initial_clustering/clustering_labels.npy\")\n",
    "    units = np.unique(labels)\n",
    "    units = units[units>-1]\n",
    "    \n",
    "    for pat_reloc in pats:\n",
    "\n",
    "        name_recording_pat = f\"{name_recording}_pat{pat_reloc}\"\n",
    "\n",
    "        dir_pat = dir / name_recording_pat\n",
    "        locs = np.load(dir_pat / \"reloc_locations.npy\")\n",
    "        n_spikes = len(amplitudes)\n",
    "\n",
    "        depth_reg = me.correct_s(times_seconds, locs[:, 2])\n",
    "\n",
    "        for unit in units:\n",
    "            if pat_reloc == 1:\n",
    "                unit_x_spread_pat_1.append(mad(locs[labels == unit, 0]))\n",
    "                unit_z_spread_pat_1.append(mad(depth_reg[labels == unit]))\n",
    "            if pat_reloc == 2:\n",
    "                unit_x_spread_pat_2.append(mad(locs[labels == unit, 0]))\n",
    "                unit_z_spread_pat_2.append(mad(depth_reg[labels == unit]))\n",
    "            if pat_reloc == 3:\n",
    "                unit_x_spread_pat_3.append(mad(locs[labels == unit, 0]))\n",
    "                unit_z_spread_pat_3.append(mad(depth_reg[labels == unit]))\n",
    "            if pat_reloc == 4:\n",
    "                unit_x_spread_pat_4.append(mad(locs[labels == unit, 0]))\n",
    "                unit_z_spread_pat_4.append(mad(depth_reg[labels == unit]))\n"
   ]
  },
  {
   "cell_type": "code",
   "execution_count": 125,
   "id": "cfb6b893-da58-4b8e-ae9d-c1272d84e978",
   "metadata": {},
   "outputs": [],
   "source": [
    "def mad(x):\n",
    "    mad = np.median(np.abs(x-np.median(x))) / 0.675\n",
    "    return mad"
   ]
  },
  {
   "cell_type": "code",
   "execution_count": 130,
   "id": "c5eac77e-12b8-4040-84a1-ff6ee8f2258c",
   "metadata": {},
   "outputs": [
    {
     "name": "stdout",
     "output_type": "stream",
     "text": [
      "      spread x full  spread x LD  spread x NP2  spread x NP1  spread z full  \\\n",
      "0          0.817109     2.149988      0.712061      1.458372      19.255020   \n",
      "1          0.237686     0.446777      0.429371      1.077718       5.542598   \n",
      "2          0.212382     0.764591      0.304929      0.617955       4.666542   \n",
      "3          1.989750     2.389618      5.122075      2.485755      12.035836   \n",
      "4          0.613684     1.046513      0.621861      1.367359      13.223057   \n",
      "...             ...          ...           ...           ...            ...   \n",
      "1469      20.504165    13.190416      7.296761     16.998788      19.124469   \n",
      "1470      22.213656    21.806937     18.062612     25.312593      13.350026   \n",
      "1471      17.275702    17.976181     16.650151     21.324408      14.842550   \n",
      "1472      14.698917    15.763343     17.291327     20.255550      15.349109   \n",
      "1473      16.692920    18.377576     15.572480     23.269523      15.775866   \n",
      "\n",
      "      spread z LD  spread z NP2  spread z NP1  \n",
      "0       21.041775     19.174076     13.863562  \n",
      "1        4.236002      3.117992      3.080668  \n",
      "2       10.625868      3.625537      3.617576  \n",
      "3       13.232023     26.276421     19.774153  \n",
      "4       16.905804     15.646804      9.809663  \n",
      "...           ...           ...           ...  \n",
      "1469    14.139023     25.988014     27.349430  \n",
      "1470    14.349649     18.261007     18.547849  \n",
      "1471    16.174357     18.171855     21.386045  \n",
      "1472    18.330262     19.416796     24.898435  \n",
      "1473    18.892695     20.344746     22.402449  \n",
      "\n",
      "[1474 rows x 8 columns]\n"
     ]
    }
   ],
   "source": [
    "list_of_tuples = list(zip(unit_x_spread_pat_1,\n",
    "                         unit_x_spread_pat_4, \n",
    "                         unit_x_spread_pat_3,\n",
    "                         unit_x_spread_pat_2,\n",
    "                         unit_z_spread_pat_1,\n",
    "                         unit_z_spread_pat_4,\n",
    "                         unit_z_spread_pat_3,\n",
    "                         unit_z_spread_pat_2))\n",
    "\n",
    "# # Assign data to tuples.\n",
    "# list_of_tuples\n",
    "\n",
    "\n",
    "# Converting lists of tuples into\n",
    "# pandas Dataframe.\n",
    "df = pd.DataFrame(list_of_tuples,\n",
    "                  columns=['spread x full',\t'spread x LD', 'spread x NP2', 'spread x NP1', \n",
    "                           'spread z full', 'spread z LD', 'spread z NP2', 'spread z NP1'])\n",
    "\n",
    "print(df)"
   ]
  },
  {
   "cell_type": "code",
   "execution_count": 131,
   "id": "3d6309c3-ea90-41a6-96af-0c8db73ade4c",
   "metadata": {},
   "outputs": [],
   "source": [
    "df.to_csv('figure_data_RERUN_panels_GtoK/panel_G/spread_x_z.csv', index=False)  "
   ]
  },
  {
   "cell_type": "code",
   "execution_count": 158,
   "id": "10d88ac4-8489-4100-8aa3-425311e29773",
   "metadata": {},
   "outputs": [
    {
     "data": {
      "text/plain": [
       "TtestResult(statistic=-5.545197969514962, pvalue=3.196095710462056e-08, df=2946.0)"
      ]
     },
     "execution_count": 158,
     "metadata": {},
     "output_type": "execute_result"
    }
   ],
   "source": [
    "# Example of statistical z test\n",
    "\n",
    "stats.ttest_ind(units_spreads[:, 0], units_spreads[:, 3])\n"
   ]
  },
  {
   "cell_type": "code",
   "execution_count": 5,
   "id": "e28433cc-526e-425e-9e09-50bc0cdd4bb8",
   "metadata": {
    "scrolled": true
   },
   "outputs": [
    {
     "name": "stderr",
     "output_type": "stream",
     "text": [
      "13it [00:00, 870.52it/s]"
     ]
    },
    {
     "name": "stdout",
     "output_type": "stream",
     "text": [
      "output of ZYE_0021___2021-05-01___1\n",
      "output of ZYE_0031___2021-12-03___1___p0_g0_imec0\n",
      "output of ZYE_0040___2021-08-15___3___p1_g0_imec0\n",
      "output of ZYE_0021___2021-05-01___4___p2_g0_imec0\n",
      "output of ZYE_0057___2022-02-07\n",
      "output of ZYE_0057___2022-02-04___1___p0_g0___p0_g0_imec0\n",
      "output of ZYE_0031___2021-12-01___1___p0_g0_imec0\n",
      "output of ZYE_0057___2022-02-07\n",
      "output of ZYE_0021___2021-05-01___4___p2_g0_imec0\n",
      "output of ZYE_0057___2022-02-04___1___p0_g0___p0_g0_imec0\n",
      "output of ZYE_0031___2021-12-02___4___p2_g0_imec0\n",
      "output of ZYE_0057___2022-02-03___2___p1_g0___p1_g0_imec0\n",
      "output of LK_0011___2021-12-06___1___p0_g0_imec0\n"
     ]
    },
    {
     "name": "stderr",
     "output_type": "stream",
     "text": [
      "\n"
     ]
    }
   ],
   "source": [
    "# Create csv with unit SNR\n",
    "\n",
    "unit_SNR_pat_1 = []\n",
    "unit_SNR_pat_2 = []\n",
    "unit_SNR_pat_3 = []\n",
    "unit_SNR_pat_4 = []\n",
    "\n",
    "for name_recording, slice in tqdm(zip(data_names, slices_all)):\n",
    "\n",
    "    print(f\"output of {name_recording}\")\n",
    "\n",
    "    for pat_reloc in pats:\n",
    "\n",
    "        name_recording_pat = f\"{name_recording}_pat{pat_reloc}\"\n",
    "\n",
    "        dir_pat = dir / name_recording_pat\n",
    "        snrs = np.load(dir_pat / \"template_SNR.npy\")\n",
    "\n",
    "        if pat_reloc == 1:\n",
    "            unit_SNR_pat_1.append(snrs)\n",
    "        if pat_reloc == 2:\n",
    "            unit_SNR_pat_2.append(snrs)\n",
    "        if pat_reloc == 3:\n",
    "            unit_SNR_pat_3.append(snrs)\n",
    "        if pat_reloc == 4:\n",
    "            unit_SNR_pat_4.append(snrs)\n"
   ]
  },
  {
   "cell_type": "code",
   "execution_count": 7,
   "id": "1655f56e-fe86-461e-a10b-e57192dabe9f",
   "metadata": {},
   "outputs": [
    {
     "name": "stdout",
     "output_type": "stream",
     "text": [
      "      unit amp full  unit amp LD  unit amp NP2  unit amp NP1\n",
      "0         47.405060    69.394323     44.763484     64.733935\n",
      "1        845.630586   688.557620    619.726723    324.799160\n",
      "2        153.775811   244.303374    255.575298    205.052103\n",
      "3         23.644786    29.902696     30.045846     50.813527\n",
      "4         85.563798   136.288951    129.458452    221.005870\n",
      "...             ...          ...           ...           ...\n",
      "1469            NaN          NaN           NaN           NaN\n",
      "1470      27.387458    27.093613     19.547628     24.376151\n",
      "1471      45.314013    21.352116     45.656146     25.092743\n",
      "1472      99.814295    73.620745     53.209836     46.634552\n",
      "1473      17.770590    21.366165     51.417153     20.895451\n",
      "\n",
      "[1474 rows x 4 columns]\n"
     ]
    }
   ],
   "source": [
    "list_of_tuples = list(zip(np.concatenate(unit_SNR_pat_1), np.concatenate(unit_SNR_pat_4), np.concatenate(unit_SNR_pat_3), np.concatenate(unit_SNR_pat_2)))\n",
    "\n",
    "# # Assign data to tuples.\n",
    "# list_of_tuples\n",
    "\n",
    "\n",
    "# Converting lists of tuples into\n",
    "# pandas Dataframe.\n",
    "df = pd.DataFrame(list_of_tuples,\n",
    "                  columns=['unit amp full', 'unit amp LD', 'unit amp NP2', 'unit amp NP1'])\n",
    "\n",
    "print(df)"
   ]
  },
  {
   "cell_type": "code",
   "execution_count": 8,
   "id": "d23eb9c2-9b65-4e01-bb9c-ebfb7fd03635",
   "metadata": {},
   "outputs": [],
   "source": [
    "df.to_csv('figure_data_RERUN_panels_GtoK/panel_F/all_templates_snr.csv', index=False)  "
   ]
  },
  {
   "cell_type": "code",
   "execution_count": null,
   "id": "de7665a1-a36f-4ccc-89ef-2f4bd8dddf44",
   "metadata": {},
   "outputs": [],
   "source": [
    "units_snrs = pd.read_csv('figure_data_RERUN_panels_GtoK/panel_F/all_templates_snr.csv').to_numpy()\n"
   ]
  }
 ],
 "metadata": {
  "kernelspec": {
   "display_name": "Python 3 (ipykernel)",
   "language": "python",
   "name": "python3"
  },
  "language_info": {
   "codemirror_mode": {
    "name": "ipython",
    "version": 3
   },
   "file_extension": ".py",
   "mimetype": "text/x-python",
   "name": "python",
   "nbconvert_exporter": "python",
   "pygments_lexer": "ipython3",
   "version": "3.11.5"
  }
 },
 "nbformat": 4,
 "nbformat_minor": 5
}
